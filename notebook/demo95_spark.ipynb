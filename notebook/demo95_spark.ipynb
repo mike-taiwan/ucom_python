{
 "cells": [
  {
   "cell_type": "code",
   "execution_count": 1,
   "metadata": {},
   "outputs": [],
   "source": [
    "import re\n",
    "from operator import add"
   ]
  },
  {
   "cell_type": "code",
   "execution_count": 2,
   "metadata": {},
   "outputs": [
    {
     "data": {
      "text/plain": [
       "'number of lines in file:112'"
      ]
     },
     "execution_count": 2,
     "metadata": {},
     "output_type": "execute_result"
    }
   ],
   "source": [
    "file_in1 = sc.textFile('eula\\\\eula.1028.txt')\n",
    "'number of lines in file:%d'%file_in1.count()"
   ]
  },
  {
   "cell_type": "code",
   "execution_count": 3,
   "metadata": {},
   "outputs": [
    {
     "data": {
      "text/plain": [
       "'number of lines in all files:290'"
      ]
     },
     "execution_count": 3,
     "metadata": {},
     "output_type": "execute_result"
    }
   ],
   "source": [
    "file_in_all = sc.textFile('eula\\\\eula*.txt')\n",
    "'number of lines in all files:%d'%file_in_all.count()"
   ]
  },
  {
   "cell_type": "code",
   "execution_count": 4,
   "metadata": {},
   "outputs": [
    {
     "data": {
      "text/plain": [
       "'number of characters:22315'"
      ]
     },
     "execution_count": 4,
     "metadata": {},
     "output_type": "execute_result"
    }
   ],
   "source": [
    "chars = file_in_all.map(lambda l:len(l)).reduce(add)\n",
    "'number of characters:%d'%chars\n"
   ]
  },
  {
   "cell_type": "code",
   "execution_count": 5,
   "metadata": {},
   "outputs": [
    {
     "data": {
      "text/plain": [
       "[u'',\n",
       " u'you',\n",
       " u'have',\n",
       " u'received',\n",
       " u'the',\n",
       " u'software',\n",
       " u'as',\n",
       " u'part',\n",
       " u'of',\n",
       " u'the',\n",
       " u'visual',\n",
       " u'studio',\n",
       " u'9',\n",
       " u'0',\n",
       " u'beta',\n",
       " u'program',\n",
       " u'',\n",
       " u'the',\n",
       " u'terms',\n",
       " u'and',\n",
       " u'conditions',\n",
       " u'of',\n",
       " u'the',\n",
       " u'visual',\n",
       " u'studio',\n",
       " u'9',\n",
       " u'0',\n",
       " u'beta',\n",
       " u'1',\n",
       " u'license',\n",
       " u'agreement',\n",
       " u'applies',\n",
       " u'to',\n",
       " u'your',\n",
       " u'use',\n",
       " u'of',\n",
       " u'the',\n",
       " u'software',\n",
       " u'microsoft',\n",
       " u'pre',\n",
       " u'release',\n",
       " u'software',\n",
       " u'license',\n",
       " u'terms',\n",
       " u'microsoft',\n",
       " u'visual',\n",
       " u'studio',\n",
       " u'9',\n",
       " u'0',\n",
       " u'professional']"
      ]
     },
     "execution_count": 5,
     "metadata": {},
     "output_type": "execute_result"
    }
   ],
   "source": [
    "words = file_in_all.flatMap(lambda l:re.split('\\W+',l.lower().strip()))\n",
    "words.take(50)\n"
   ]
  },
  {
   "cell_type": "code",
   "execution_count": 6,
   "metadata": {},
   "outputs": [
    {
     "data": {
      "text/plain": [
       "[(u'', 293),\n",
       " (u'software.**', 2),\n",
       " (u'permits,', 3),\n",
       " (u'd\\ufffd\\ufffdabsence', 2),\n",
       " (u'13.', 2),\n",
       " (u'peut', 4),\n",
       " (u'LAWS,', 3),\n",
       " (u'POUR', 2),\n",
       " (u'contract,', 3),\n",
       " (u'design,', 2),\n",
       " (u'competition', 3),\n",
       " (u'pre-release', 4),\n",
       " (u'4.', 3),\n",
       " (u'consommateurs,', 2),\n",
       " (u'note:', 2),\n",
       " (u'ADDITIONAL', 3),\n",
       " (u'TO', 6),\n",
       " (u'quel', 2),\n",
       " (u'tort', 3),\n",
       " (u'does', 3)]"
      ]
     },
     "execution_count": 6,
     "metadata": {},
     "output_type": "execute_result"
    }
   ],
   "source": [
    "counts = file_in_all.flatMap(lambda l:l.split(\" \")).map(lambda w:(w,1)).reduceByKey(lambda a,b:a+b)\n",
    "counts.take(20)"
   ]
  },
  {
   "cell_type": "code",
   "execution_count": 7,
   "metadata": {},
   "outputs": [
    {
     "data": {
      "text/plain": [
       "[(293, u''),\n",
       " (149, u'the'),\n",
       " (79, u'to'),\n",
       " (70, u'software'),\n",
       " (70, u'of'),\n",
       " (54, u'\\ufffdE'),\n",
       " (53, u'and'),\n",
       " (51, u'you'),\n",
       " (45, u'or'),\n",
       " (39, u'may'),\n",
       " (36, u'de'),\n",
       " (36, u'any'),\n",
       " (35, u'for'),\n",
       " (34, u'in'),\n",
       " (33, u'not'),\n",
       " (33, u'this'),\n",
       " (30, u'your'),\n",
       " (28, u'Microsoft'),\n",
       " (28, u'agreement'),\n",
       " (27, u'You'),\n",
       " (27, u'laws'),\n",
       " (26, u'with'),\n",
       " (25, u'use'),\n",
       " (25, u'The'),\n",
       " (23, u'other'),\n",
       " (22, u'that'),\n",
       " (22, u'ou'),\n",
       " (22, u'rights'),\n",
       " (21, u'terms'),\n",
       " (20, u'a'),\n",
       " (19, u'software.'),\n",
       " (18, u'THE'),\n",
       " (18, u'services'),\n",
       " (18, u'YOU'),\n",
       " (18, u'third'),\n",
       " (17, u'This'),\n",
       " (17, u'on'),\n",
       " (17, u'is'),\n",
       " (16, u'AND'),\n",
       " (16, u'les'),\n",
       " (16, u'license'),\n",
       " (16, u'apply'),\n",
       " (15, u'limitation'),\n",
       " (15, u'MICROSOFT'),\n",
       " (15, u'OF'),\n",
       " (14, u'If'),\n",
       " (14, u'party'),\n",
       " (14, u'have'),\n",
       " (13, u'also'),\n",
       " (13, u'only')]"
      ]
     },
     "execution_count": 7,
     "metadata": {},
     "output_type": "execute_result"
    }
   ],
   "source": [
    "countsReverse = counts.map(lambda x:(x[1],x[0])).sortByKey(False)\n",
    "countsReverse.take(50)"
   ]
  },
  {
   "cell_type": "code",
   "execution_count": 8,
   "metadata": {},
   "outputs": [
    {
     "data": {
      "text/plain": [
       "([<matplotlib.axis.YTick at 0xece94e0>,\n",
       "  <matplotlib.axis.YTick at 0xece9048>,\n",
       "  <matplotlib.axis.YTick at 0xecb30f0>,\n",
       "  <matplotlib.axis.YTick at 0xed38208>,\n",
       "  <matplotlib.axis.YTick at 0xed38470>,\n",
       "  <matplotlib.axis.YTick at 0xed389e8>,\n",
       "  <matplotlib.axis.YTick at 0xed38eb8>,\n",
       "  <matplotlib.axis.YTick at 0xed4b3c8>,\n",
       "  <matplotlib.axis.YTick at 0xed4b898>,\n",
       "  <matplotlib.axis.YTick at 0xed4bd68>],\n",
       " <a list of 10 Text yticklabel objects>)"
      ]
     },
     "execution_count": 8,
     "metadata": {},
     "output_type": "execute_result"
    },
    {
     "data": {
      "image/png": "[encoded data removed]",
      "text/plain": [
       "<Figure size 432x288 with 1 Axes>"
      ]
     },
     "metadata": {
      "needs_background": "light"
     },
     "output_type": "display_data"
    }
   ],
   "source": [
    "%matplotlib inline\n",
    "import matplotlib.pyplot as plt\n",
    "count = map(lambda x:x[0], countsReverse.take(10))\n",
    "word = map(lambda x:x[1],countsReverse.take(10))\n",
    "plt.barh(range(len(count)), count, color='gray')\n",
    "plt.yticks(range(len(count)),word)"
   ]
  }
 ],
 "metadata": {
  "kernelspec": {
   "display_name": "Python 2",
   "language": "python",
   "name": "python2"
  },
  "language_info": {
   "codemirror_mode": {
    "name": "ipython",
    "version": 2
   },
   "file_extension": ".py",
   "mimetype": "text/x-python",
   "name": "python",
   "nbconvert_exporter": "python",
   "pygments_lexer": "ipython2",
   "version": "2.7.15"
  }
 },
 "nbformat": 4,
 "nbformat_minor": 2
}
